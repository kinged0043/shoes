{
 "cells": [
  {
   "cell_type": "markdown",
   "metadata": {},
   "source": [
    "this part of the code is where i:\n",
    "\n",
    "- extract features from the data using sklearn\n",
    "- train ml models to predict the total amount of shoes expected to be sold\n",
    "- possibly engineer new data that the model will be trained on"
   ]
  },
  {
   "cell_type": "code",
   "execution_count": null,
   "metadata": {},
   "outputs": [],
   "source": [
    "from sklearn.preprocessing import train_test_split, LabelEncoder\n",
    "from sklearn.metrics import confusion_matrix, f1_score, balanced_accuracy_score\n",
    "from sklearn.feature_selection import SelectFromModel\n",
    "from sklearn.linear_model import LinearRegression\n",
    "from sklearn.tree import DecisionTreeClassifier\n",
    "\n",
    "from lazypredict.Supervised import LazyRegressor"
   ]
  }
 ],
 "metadata": {
  "kernelspec": {
   "display_name": "shoes-ALI8flRn",
   "language": "python",
   "name": "python3"
  },
  "language_info": {
   "name": "python",
   "version": "3.12.3"
  }
 },
 "nbformat": 4,
 "nbformat_minor": 2
}
